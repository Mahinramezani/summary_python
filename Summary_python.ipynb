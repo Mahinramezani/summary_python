{
 "cells": [
  {
   "cell_type": "markdown",
   "metadata": {},
   "source": [
    "## Why python?\n",
    "1. Open Source\n",
    "2. online community\n",
    "3. Very easy to learn\n",
    "4. Can become a common language for data science and the production of web-based analytics products\n",
    "\n",
    "### drawbacks:\n",
    "* It is an interpreted language rather than compiled language – hence might take up more CPU time.\n",
    "\n",
    "## iPython Notebooks\n",
    "* It provides a lot of good features for documenting while writing the code itself and you can choose to run the code in blocks (rather than the line by line execution)\n",
    " \n",
    "# Data Structures\n",
    "\n",
    "### 1. List: \n",
    "* might contain items of different types\n",
    "* Python lists are mutable and individual elements of a list can be changed\n"
   ]
  },
  {
   "cell_type": "code",
   "execution_count": 1,
   "metadata": {},
   "outputs": [
    {
     "name": "stdout",
     "output_type": "stream",
     "text": [
      "1\n",
      "[3, 4]\n",
      "5\n"
     ]
    }
   ],
   "source": [
    "a = [1, 2, 3, 4, 5, 6]\n",
    "print(a[0])\n",
    "print(a[2:4])\n",
    "print(a[-2])"
   ]
  },
  {
   "cell_type": "markdown",
   "metadata": {},
   "source": [
    "### 2. String\n",
    "* can be defined by the use of single ( ‘ ), double ( ” ), or triple ( ”’ ) inverted commas. (tripe quotes ( ”’ ) can span over multiple lines. \\ is used as an escape character)\n",
    "* Python strings are immutable, so you can not change part of the strings.\n"
   ]
  },
  {
   "cell_type": "code",
   "execution_count": 2,
   "metadata": {},
   "outputs": [
    {
     "name": "stdout",
     "output_type": "stream",
     "text": [
      "a\n",
      "I am Mahin\n",
      "Hello \n",
      " World!\n",
      "Hello \\n World!\n"
     ]
    }
   ],
   "source": [
    "s = \"Mahin\"\n",
    "print(s[1])\n",
    "print(\"I am \" + s)\n",
    "print(\"Hello \\n World!\")\n",
    "print(r\"Hello \\n World!\")"
   ]
  },
  {
   "cell_type": "markdown",
   "metadata": {},
   "source": [
    "### 3. Tuples\n",
    "* Tuples are immutable and can not change --> faster than list (if your list is unlikely to change, use tuples)\n",
    "* even though tuples are immutable, they can hold mutable data if needed"
   ]
  },
  {
   "cell_type": "code",
   "execution_count": 5,
   "metadata": {},
   "outputs": [
    {
     "name": "stdout",
     "output_type": "stream",
     "text": [
      "(1, 2, 3, 4, 5)\n",
      "3\n"
     ]
    }
   ],
   "source": [
    "t = 1, 2, 3, 4, 5\n",
    "print(t)\n",
    "print(t[2])"
   ]
  },
  {
   "cell_type": "markdown",
   "metadata": {},
   "source": [
    "### Dictionary\n",
    "* unordered set of key: value pairs\n",
    "* keys are unique  "
   ]
  },
  {
   "cell_type": "code",
   "execution_count": 12,
   "metadata": {},
   "outputs": [
    {
     "name": "stdout",
     "output_type": "stream",
     "text": [
      "{'height': 23, 'width': 15, 'depth': 18}\n",
      "{'height': 23, 'width': 21, 'depth': 18}\n",
      "\n",
      "keys =  dict_keys(['height', 'width', 'depth'])\n"
     ]
    }
   ],
   "source": [
    "d = {'height': 23, 'width': 15, 'depth':18}\n",
    "print(d)\n",
    "\n",
    "d['width'] = 21\n",
    "print(d)\n",
    "\n",
    "print(\"\\nkeys = \", d.keys())"
   ]
  },
  {
   "cell_type": "code",
   "execution_count": 24,
   "metadata": {},
   "outputs": [
    {
     "name": "stdout",
     "output_type": "stream",
     "text": [
      "1\n",
      "1\n",
      "2\n",
      "6\n",
      "24\n",
      "120\n",
      "120\n"
     ]
    }
   ],
   "source": [
    "# simple code: loop and conditions\n",
    "\n",
    "num = 1\n",
    "N = 7\n",
    "for i in range(1, N + 1):\n",
    "    print(num)\n",
    "    if (num < 50):\n",
    "        num = num * i"
   ]
  },
  {
   "cell_type": "markdown",
   "metadata": {},
   "source": [
    "# 3. Exploratory analysis in Python using Pandas"
   ]
  },
  {
   "cell_type": "markdown",
   "metadata": {},
   "source": [
    "### Reference\n",
    "https://www.analyticsvidhya.com/blog/2016/01/complete-tutorial-learn-data-science-python-scratch-2/"
   ]
  }
 ],
 "metadata": {
  "kernelspec": {
   "display_name": "Python 3",
   "language": "python",
   "name": "python3"
  },
  "language_info": {
   "codemirror_mode": {
    "name": "ipython",
    "version": 3
   },
   "file_extension": ".py",
   "mimetype": "text/x-python",
   "name": "python",
   "nbconvert_exporter": "python",
   "pygments_lexer": "ipython3",
   "version": "3.7.6"
  }
 },
 "nbformat": 4,
 "nbformat_minor": 4
}
